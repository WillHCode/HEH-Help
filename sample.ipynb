{
 "cells": [
  {
   "cell_type": "markdown",
   "source": [
    "# La Récurssion"
   ],
   "metadata": {
    "collapsed": false
   },
   "id": "e8deb52366ab7a77"
  },
  {
   "cell_type": "code",
   "source": [
    "# import\n",
    "import time\n",
    "\n",
    "def current_milli_time():\n",
    "    return round(time.time() * 1000)"
   ],
   "metadata": {
    "collapsed": false,
    "ExecuteTime": {
     "end_time": "2024-04-05T10:04:56.257690Z",
     "start_time": "2024-04-05T10:04:56.250079Z"
    }
   },
   "id": "ac0f4e27c015a786",
   "outputs": [],
   "execution_count": 8
  },
  {
   "cell_type": "markdown",
   "source": [
    "## Introduction\n",
    "La récursion est une technique de programmation dans laquelle une fonction résout un problème en appelant une copie de lui-même. Cela signifie que la fonction est divisée en problèmes plus petits jusqu'à ce que le problème soit assez petit pour être résolu. La récursion est souvent utilisée pour résoudre des problèmes mathématiques et informatiques complexes. Par exemple, la récursion est souvent utilisée pour résoudre des problèmes de tri, de recherche et de parcours d'arbres. La récursion est une technique puissante, mais elle peut être difficile à comprendre et à déboguer. Il est important de comprendre comment la récursion fonctionne et comment l'utiliser correctement.\n",
    "\n",
    "En cas de mauvaise utilisation elle peut devenir même dangereuse, car elle peut entraîner un débordement de la pile d'appels (Stack Overflow). Cela se produit lorsque la fonction récursive appelle elle-même de manière infinie, sans jamais atteindre le cas de base. Cela peut entraîner un épuisement des ressources du système et un crash du programme.\n",
    "\n",
    "Ou dans des cas plus simple, moins bien optimisé que la boucle for ou while."
   ],
   "metadata": {
    "collapsed": false
   },
   "id": "ddfffb690b11b495"
  },
  {
   "cell_type": "markdown",
   "source": [
    "## Principe\n",
    "La récursion est basée sur deux concepts clés : le cas de base et le cas récursif.\n",
    "\n",
    "1. Le cas de base est le cas le plus simple du problème. C'est le cas où la fonction récursive s'arrête et renvoie une valeur. Le cas de base est essentiel pour éviter une récursion infinie.\n",
    "2. Le cas récursif est le cas où la fonction récursive appelle une copie de lui-même pour résoudre un problème plus petit. La fonction récursive continue d'appeler une copie de lui-même jusqu'à ce que le cas de base soit atteint."
   ],
   "metadata": {
    "collapsed": false
   },
   "id": "f2dd800799156a46"
  },
  {
   "cell_type": "markdown",
   "source": [
    "![recursion](https://github.com/WillHCode/HEH-Help/blob/main/assets/recursion.png) \\\n",
    "Si l'image ne s'affiche pas, voici le lien : https://github.com/WillHCode/HEH-Help/blob/main/assets/recursion.png"
   ],
   "metadata": {
    "collapsed": false
   },
   "id": "727b0d994b2b30b7"
  },
  {
   "metadata": {},
   "cell_type": "markdown",
   "source": [
    "On part d'une fonction de base {ici foo(n)} qui appelle une copie de lui-même {foo(n-1)} et ainsi de suite, jusqu'à atteindre le cas de base {ici j'ai mis foo(0) en imaginant qu'il correspond à notre cas de base}.\n",
    "L'idée est donc la suivante\n",
    "\n",
    "1. On appelle foo(n) -> Il a besoin du reésultat de foo(n-1) => Cas récursif\n",
    "2. On appelle foo(n-1) -> Il a besoin du reésultat de foo(n-2) => Cas récursif\n",
    "3. ...\n",
    "4. On appelle foo(1) -> Il a besoin du reésultat de foo(0) => Cas récursif\n",
    "5. On appelle foo(0) -> On a le résultat => Cas de base\n",
    "\n",
    "Donc on a une suite de fonctions qui s'appellent les unes les autres jusqu'à atteindre le cas de base. Mais attention, il faut que le cas de base soit atteint, sinon on aura une récursion infinie.\n",
    "Maintenant que foo(0) est atteint, on remonte la pile d'appels pour obtenir le résultat final comme ceci :\n",
    "\n",
    "1. foo(0) -> retourne une valeur k\n",
    "2. foo(1) -> avais besoin de foo(0) -> foo(0) a retourné k -> donc foo(1) peut retourner une valeur\n",
    "3. foo(2) -> avais besoin de foo(1) -> foo(1) a retourné une valeur -> donc foo(2) peut retourner une valeur\n",
    "4. ...\n",
    "5. foo(n) -> avais besoin de foo(n-1) -> foo(n-1) a retourné une valeur -> donc foo(n) peut retourner une valeur\n",
    "6. foo(n) retourne une valeur\n",
    "\n",
    "Et voilà, on a notre résultat final.\n",
    "\n",
    "A savoir que le nombre d'appels récursifs est appelé la profondeur de la récursion (ou Stack Depth). Et si elle est trop grande, on peut avoir un Stack Overflow."
   ],
   "id": "8d8429b6b592c834"
  },
  {
   "cell_type": "markdown",
   "source": [
    "## Exemple\n",
    "### Factorielle\n",
    "\n",
    "La factorielle d'un nombre entier n est le produit de tous les entiers positifs inférieurs ou égaux à n. La factorielle de n est notée n! et est définie comme suit :\n",
    "\n",
    "n! = n * (n-1) * (n-2) * ... * 1\n",
    "\n",
    "Tout d'abord, définissons les cas de base et récursif pour la fonction factorielle :\n",
    "**Cas de base** : La factorielle de 0 est 1.\n",
    "**Cas récursif** : La factorielle de n est n * factorielle(n-1)."
   ],
   "metadata": {
    "collapsed": false
   },
   "id": "f0c80cf12ba60d08"
  },
  {
   "cell_type": "code",
   "source": [
    "def factorielle_recusive(n):\n",
    "    if n == 0:\n",
    "        return 1\n",
    "    else:\n",
    "        return n * factorielle_recusive(n-1)"
   ],
   "metadata": {
    "collapsed": false,
    "ExecuteTime": {
     "end_time": "2024-04-05T10:04:56.288225Z",
     "start_time": "2024-04-05T10:04:56.273712Z"
    }
   },
   "id": "4be411f2e6037d5f",
   "outputs": [],
   "execution_count": 9
  },
  {
   "cell_type": "code",
   "source": [
    "tmp_ms1 = current_milli_time()\n",
    "f = factorielle_recusive(10)\n",
    "tmp_ms2 = current_milli_time() - tmp_ms1\n",
    "\n",
    "print(tmps2, \"ms\")\n",
    "print(f)"
   ],
   "metadata": {
    "collapsed": false,
    "ExecuteTime": {
     "end_time": "2024-04-05T10:04:56.303240Z",
     "start_time": "2024-04-05T10:04:56.289223Z"
    }
   },
   "id": "9caafe2fc2b8cd72",
   "outputs": [
    {
     "ename": "NameError",
     "evalue": "name 'tmps2' is not defined",
     "output_type": "error",
     "traceback": [
      "\u001B[1;31m---------------------------------------------------------------------------\u001B[0m",
      "\u001B[1;31mNameError\u001B[0m                                 Traceback (most recent call last)",
      "Cell \u001B[1;32mIn[10], line 5\u001B[0m\n\u001B[0;32m      2\u001B[0m f \u001B[38;5;241m=\u001B[39m factorielle_recusive(\u001B[38;5;241m10\u001B[39m)\n\u001B[0;32m      3\u001B[0m tmp_ms2 \u001B[38;5;241m=\u001B[39m current_milli_time() \u001B[38;5;241m-\u001B[39m tmp_ms1\n\u001B[1;32m----> 5\u001B[0m \u001B[38;5;28mprint\u001B[39m(\u001B[43mtmps2\u001B[49m, \u001B[38;5;124m\"\u001B[39m\u001B[38;5;124mms\u001B[39m\u001B[38;5;124m\"\u001B[39m)\n\u001B[0;32m      6\u001B[0m \u001B[38;5;28mprint\u001B[39m(f)\n",
      "\u001B[1;31mNameError\u001B[0m: name 'tmps2' is not defined"
     ]
    }
   ],
   "execution_count": 10
  },
  {
   "cell_type": "markdown",
   "source": [
    "Voyons les complexité en temps et en espace de la récursion.\n",
    "\n",
    "**Complexité en temps** : La complexité en temps de la récursion est O(n), où n est le nombre d'appels récursifs. Cela est dû au fait que la fonction récursive appelle une copie de lui-même n fois pour résoudre le problème.\n",
    "\n",
    "**Complexité en espace** : La complexité en espace de la récursion est O(n), où n est la profondeur de la récursion. Cela est dû au fait que chaque appel récursif est ajouté à la pile d'appels."
   ],
   "metadata": {
    "collapsed": false
   },
   "id": "f9810fd91cb5f040"
  },
  {
   "cell_type": "markdown",
   "source": [
    "Jusqu'à présent, nous avons vu comment la récursion fonctionne et comment l'utiliser pour résoudre des problèmes. Cependex, il est important de noter que la récursion n'est pas toujours la meilleure solution pour résoudre un problème. En fait, la récursion peut être moins efficace que les boucles for ou while dans certains cas. Il est donc important de choisir la bonne technique de programmation en fonction du problème à résoudre."
   ],
   "metadata": {
    "collapsed": false
   },
   "id": "8d4abc8140399703"
  },
  {
   "cell_type": "code",
   "source": [
    "def factorielle(n):\n",
    "    result = 1\n",
    "    for i in range(1, n+1):\n",
    "        result *= i\n",
    "    return result"
   ],
   "metadata": {
    "collapsed": false,
    "ExecuteTime": {
     "end_time": "2024-04-05T10:04:56.304241Z",
     "start_time": "2024-04-05T10:04:56.304241Z"
    }
   },
   "id": "b0aa21d7e6cfd3b4",
   "outputs": [],
   "execution_count": null
  },
  {
   "cell_type": "code",
   "source": [
    "tmp_ms1 = current_milli_time()\n",
    "f = factorielle(10)\n",
    "tmp_ms2 = current_milli_time() - tmp_ms1\n",
    "\n",
    "print(tmp_ms2, \"ms\")\n",
    "print(f)"
   ],
   "metadata": {
    "collapsed": false
   },
   "id": "7ef2e7c3d80d6294",
   "outputs": [],
   "execution_count": null
  },
  {
   "cell_type": "markdown",
   "source": [
    "Voyons les complexité en temps et en espace de la boucle for.\n",
    "\n",
    "**Complexité en temps** : La complexité en temps de la boucle for est O(n), où n est le nombre d'itérations de la boucle. Cela est dû au fait que la boucle for s'exécute n fois pour résoudre le problème.\n",
    "\n",
    "**Complexité en espace** : La complexité en espace de la boucle for est O(1), car elle ne nécessite pas de stocker les appels récursifs dans la pile d'appels."
   ],
   "metadata": {
    "collapsed": false
   },
   "id": "b52bc1e7bacc1b59"
  },
  {
   "cell_type": "markdown",
   "source": [
    "## Dans quel cas utiliser la récursion ?\n",
    "\n",
    "Avec l'exemple de la récusion de la factorielle, on peut voir que la récursion est plus simple et plus \"élégante\" (au sens mathématique) que la boucle for.\n",
    "Ici on pourrait se dire que si ce n'est qu'une question d'élégance, ça n'en vaut pas la peine... La boucle for a été plus rapide et plus efficace en terme de mémoire.\n",
    "\n",
    "Alors pourquoi ce résultat ?\n",
    "Ici nous avons vu un cas simple, autrement dis on n'exploite pas vraiment la puissance de la récursion."
   ],
   "metadata": {
    "collapsed": false
   },
   "id": "cd2867dc44b7c480"
  },
  {
   "cell_type": "markdown",
   "source": [
    "### Fibonacci\n",
    "\n",
    "La suite de Fibonacci est une suite d'entiers dans laquelle chaque nombre est la somme des deux nombres précédents. La suite commence par 0 et 1, et chaque nombre suivant est la somme des deux nombres précédents. La suite de Fibonacci est définie comme suit :\n",
    "\n",
    "F(0) = 1\n",
    "F(1) = 1\n",
    "F(n) = F(n-1) + F(n-2)\n",
    "\n",
    "Définissons les cas de base et récursif pour la fonction de Fibonacci :\n",
    "**Cas de base** : F(0) = 0 et F(1) = 1.\n",
    "**Cas récursif** : F(n) = F(n-1) + F(n-2).\n"
   ],
   "metadata": {
    "collapsed": false
   },
   "id": "e0f40f3cd30d36c1"
  },
  {
   "cell_type": "code",
   "source": [
    "def fibonacci_recusive(n):\n",
    "    if n == 0 or n == 1:\n",
    "        return 1\n",
    "    else:\n",
    "        return fibonacci_recusive(n-1) + fibonacci_recusive(n-2)"
   ],
   "metadata": {
    "collapsed": false
   },
   "id": "9d356b349905cbc5",
   "outputs": [],
   "execution_count": null
  },
  {
   "cell_type": "code",
   "source": [
    "tmp_ms1 = current_milli_time()\n",
    "f = fibonacci_recusive(10)\n",
    "tmp_ms2 = current_milli_time() - tmp_ms1\n",
    "\n",
    "print(tmp_ms2, \"ms\")\n",
    "print(f)"
   ],
   "metadata": {
    "collapsed": false
   },
   "id": "c6cb0c825b83f647",
   "outputs": [],
   "execution_count": null
  },
  {
   "cell_type": "markdown",
   "source": [
    "Voyons les complexité en temps et en espace de la récursion.\n",
    "\n",
    "**Complexité en temps** : La complexité en temps de la récursion est O(2^n), où n est le nombre d'appels récursifs. Cela est dû au fait que la fonction récursive appelle deux copies de lui-même à chaque appel.\n",
    "\n",
    "**Complexité en espace** : La complexité en espace de la récursion est O(n), où n est la profondeur de la récursion. Cela est dû au fait que chaque appel récursif est ajouté à la pile d'appels.\n"
   ],
   "metadata": {
    "collapsed": false
   },
   "id": "7a4e206f9ac0207f"
  },
  {
   "cell_type": "code",
   "source": [
    "def fibonacci(n):\n",
    "    if n == 0 or n == 1:\n",
    "        return 1\n",
    "    else:\n",
    "        a, b = 1, 1\n",
    "        for i in range(2, n+1):\n",
    "            a, b = b, a + b\n",
    "        return b\n",
    "    "
   ],
   "metadata": {
    "collapsed": false
   },
   "id": "847226abe76227ea",
   "outputs": [],
   "execution_count": null
  },
  {
   "cell_type": "code",
   "source": [
    "tmp_ms1 = current_milli_time()\n",
    "f = fibonacci(10)\n",
    "tmp_ms2 = current_milli_time() - tmp_ms1\n",
    "\n",
    "print(tmp_ms2, \"ms\")\n",
    "print(f)"
   ],
   "metadata": {
    "collapsed": false
   },
   "id": "2acc6f8ae3e214c1",
   "outputs": [],
   "execution_count": null
  },
  {
   "cell_type": "markdown",
   "source": [
    "Voyons les complexité en temps et en espace de la boucle for.\n",
    "\n",
    "**Complexité en temps** : La complexité en temps de la boucle for est O(n), où n est le nombre d'itérations de la boucle. Cela est dû au fait que la boucle for s'exécute n fois pour résoudre le problème.\n",
    "\n",
    "**Complexité en espace** : La complexité en espace de la boucle for est O(1), car elle ne nécessite pas de stocker les appels récursifs dans la pile d'appels."
   ],
   "metadata": {
    "collapsed": false
   },
   "id": "dde67e822ae0028d"
  },
  {
   "cell_type": "code",
   "source": [],
   "metadata": {
    "collapsed": false
   },
   "id": "beac5701aac20134",
   "outputs": [],
   "execution_count": null
  }
 ],
 "metadata": {
  "kernelspec": {
   "display_name": "Python 3",
   "language": "python",
   "name": "python3"
  },
  "language_info": {
   "codemirror_mode": {
    "name": "ipython",
    "version": 2
   },
   "file_extension": ".py",
   "mimetype": "text/x-python",
   "name": "python",
   "nbconvert_exporter": "python",
   "pygments_lexer": "ipython2",
   "version": "2.7.6"
  }
 },
 "nbformat": 4,
 "nbformat_minor": 5
}
