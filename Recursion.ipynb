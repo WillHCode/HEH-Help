{
 "cells": [
  {
   "metadata": {
    "ExecuteTime": {
     "end_time": "2024-04-05T12:55:18.855324Z",
     "start_time": "2024-04-05T12:55:18.567432Z"
    }
   },
   "cell_type": "code",
   "source": [
    "# pip install of necessary packages \n",
    "import importlib.util\n",
    "\n",
    "def install_and_import(package):\n",
    "    spec = importlib.util.find_spec(package)\n",
    "    if spec is None:\n",
    "        print(f\"Installing {package}...\")\n",
    "        !pip install {package}\n",
    "    else:\n",
    "        print(f\"{package} is already installed.\")\n",
    "\n",
    "# List of packages to check/install\n",
    "packages = [\"time\", \"matplotlib\", \"numpy\"]\n",
    "\n",
    "for package in packages:\n",
    "    install_and_import(package)\n",
    "\n",
    "\n",
    "import time\n",
    "import matplotlib.pyplot as plt\n",
    "import numpy as np\n",
    "\n",
    "def current_milli_time():\n",
    "    return round(time.time() * 1000)"
   ],
   "id": "aea9480c1f3257c1",
   "outputs": [
    {
     "name": "stdout",
     "output_type": "stream",
     "text": [
      "time is already installed.\n",
      "matplotlib is already installed.\n",
      "numpy is already installed.\n"
     ]
    }
   ],
   "execution_count": 1
  },
  {
   "cell_type": "markdown",
   "source": [
    "# La Récurssion"
   ],
   "metadata": {
    "collapsed": false
   },
   "id": "e8deb52366ab7a77"
  },
  {
   "cell_type": "markdown",
   "source": [
    "## Introduction\n",
    "La récursion est une technique de programmation dans laquelle une fonction résout un problème en appelant une copie d'elle-même. Cela signifie que la fonction est divisée en problèmes plus petits jusqu'à ce que le problème soit assez petit pour être résolu.\\\n",
    "Elle est souvent utilisée pour résoudre des problèmes mathématiques et informatiques complexes. Par exemple pour résoudre des problèmes de tri, de recherche et de parcours d'arbres. C'est une technique puissante, mais elle peut être difficile à comprendre et à déboguer.\\\n",
    "Il est important de comprendre comment la récursion fonctionne et comment l'utiliser correctement.\n",
    "\n",
    "En cas de mauvaise utilisation elle peut devenir même dangereuse, car elle peut entraîner un débordement de la pile d'appels (Stack Overflow).\\\n",
    "Cela se produit lorsque la fonction récursive appelle elle-même de manière infinie, sans jamais atteindre le cas de base. Cela peut entraîner un épuisement des ressources du système et un crash du programme.\n",
    "\n",
    "Ou simplement moins bien optimisé que la boucle for ou while."
   ],
   "metadata": {
    "collapsed": false
   },
   "id": "ddfffb690b11b495"
  },
  {
   "cell_type": "markdown",
   "source": [
    "## Principe\n",
    "La récursion est basée sur deux concepts clés : le cas de base et le cas récursif.\n",
    "\n",
    "1. Le cas de base est le cas le plus simple du problème. C'est le cas où la fonction récursive s'arrête et renvoie une valeur. Le cas de base est essentiel pour éviter une récursion infinie.\n",
    "2. Le cas récursif est le cas où la fonction récursive appelle une copie d'elle-même pour résoudre un problème plus petit. La fonction récursive continue d'appeler des copies \"de plus en plus simple\" jusqu'à ce que le cas de base soit atteint."
   ],
   "metadata": {
    "collapsed": false
   },
   "id": "f2dd800799156a46"
  },
  {
   "cell_type": "markdown",
   "source": [
    "![recursion](https://github.com/WillHCode/HEH-Help/blob/main/assets/recursion.png) \\\n",
    "Si l'image ne s'affiche pas, voici le lien : https://github.com/WillHCode/HEH-Help/blob/main/assets/recursion.png"
   ],
   "metadata": {
    "collapsed": false
   },
   "id": "727b0d994b2b30b7"
  },
  {
   "metadata": {},
   "cell_type": "markdown",
   "source": [
    "On part d'une fonction de base {ici foo(n)} qui appelle une copie d'elle-même {foo(n-1)} et ainsi de suite, jusqu'à atteindre le cas de base {ici j'ai mis foo(0) en imaginant qu'il correspond à notre cas de base}.\n",
    "L'idée est donc la suivante\n",
    "\n",
    "1. On appelle foo(n) -> Il a besoin du résultat de foo(n-1) => Cas récursif\n",
    "2. On appelle foo(n-1) -> Il a besoin du résultat de foo(n-2) => Cas récursif\n",
    "3. ...\n",
    "4. On appelle foo(1) -> Il a besoin du résultat de foo(0) => Cas récursif\n",
    "5. On appelle foo(0) -> On a le résultat => Cas de base\n",
    "\n",
    "Donc on a une suite de fonctions qui s'appellent les unes les autres jusqu'à atteindre le cas de base. Mais attention, il faut que le cas de base soit atteint, sinon on aura une récursion infinie.\n",
    "Maintenant que foo(0) est atteint, on remonte la pile d'appels pour obtenir le résultat final comme ceci :\n",
    "\n",
    "1. foo(0) -> retourne une valeur k\n",
    "2. foo(1) -> avait besoin de foo(0) -> foo(0) a retourné k -> donc foo(1) peut retourner une valeur\n",
    "3. foo(2) -> avait besoin de foo(1) -> foo(1) a retourné une valeur -> donc foo(2) peut retourner une valeur\n",
    "4. ...\n",
    "5. foo(n) -> avait besoin de foo(n-1) -> foo(n-1) a retourné une valeur -> donc foo(n) peut retourner une valeur\n",
    "6. foo(n) retourne une valeur\n",
    "\n",
    "Et voilà, on a notre résultat final.\n",
    "\n",
    "A savoir que le nombre d'appels récursifs est appelé la profondeur de la récursion (ou Stack Depth). Et si elle est trop grande, on peut avoir un Stack Overflow ou un crash du programme voir même un temps d'exécution beaucoup trop long."
   ],
   "id": "8d8429b6b592c834"
  },
  {
   "cell_type": "markdown",
   "source": [
    "## Exemple\n",
    "### Factorielle\n",
    "\n",
    "La factorielle d'un nombre entier n est le produit de tous les entiers positifs inférieurs ou égaux à n. La factorielle de n est notée n! et est définie comme suit :\n",
    "\n",
    "\n",
    "$$n! = n * (n-1) * (n-2) * ... * 1$$\n",
    "\n",
    "Tout d'abord, définissons les cas de base et récursif pour la fonction factorielle :\n",
    "\n",
    "**Cas de base** : La factorielle de 0 est 1.\n",
    "\n",
    "**Cas récursif** : La factorielle de n est $n * factorielle(n-1)$\n",
    "\n",
    "Par exemple si on cherche $factorielle(3)$, on a :\n",
    "$$\n",
    "\\begin{align*}\n",
    "\\text{factorielle}(3) & = 3 \\times \\text{factorielle}(2) \\\\\n",
    "                      & = 3 \\times 2 \\times \\text{factorielle}(1) \\\\\n",
    "                      & = 3 \\times 2 \\times 1 \\times \\text{factorielle}(0) \\quad \\text{-> Cas de base} \\\\\n",
    "                      & = 3 \\times 2 \\times 1 \\times 1\n",
    "\\end{align*}\n",
    "$$\n"
   ],
   "metadata": {
    "collapsed": false
   },
   "id": "f0c80cf12ba60d08"
  },
  {
   "cell_type": "code",
   "source": [
    "def factorielle_recusive(n):\n",
    "    if n == 0:\n",
    "        return 1\n",
    "    else:\n",
    "        return n * factorielle_recusive(n-1)"
   ],
   "metadata": {
    "collapsed": false,
    "ExecuteTime": {
     "end_time": "2024-04-05T12:55:18.871324Z",
     "start_time": "2024-04-05T12:55:18.856325Z"
    }
   },
   "id": "4be411f2e6037d5f",
   "outputs": [],
   "execution_count": 2
  },
  {
   "cell_type": "code",
   "source": [
    "tmp_ms1 = current_milli_time()\n",
    "f = factorielle_recusive(10)\n",
    "tmp_ms2 = current_milli_time() - tmp_ms1\n",
    "\n",
    "print(tmp_ms2, \"ms\")\n",
    "print(f)"
   ],
   "metadata": {
    "collapsed": false,
    "ExecuteTime": {
     "end_time": "2024-04-05T12:55:18.886328Z",
     "start_time": "2024-04-05T12:55:18.872324Z"
    }
   },
   "id": "9caafe2fc2b8cd72",
   "outputs": [
    {
     "name": "stdout",
     "output_type": "stream",
     "text": [
      "0 ms\n",
      "3628800\n"
     ]
    }
   ],
   "execution_count": 3
  },
  {
   "cell_type": "markdown",
   "source": [
    "Voyons les complexité en temps et en espace de la récursion.\n",
    "\n",
    "**Complexité en temps** : La complexité en temps de la récursion est O(n), où n est le nombre d'appels récursifs. Cela est dû au fait que la fonction récursive appelle une copie de lui-même n fois pour résoudre le problème.\n",
    "\n",
    "**Complexité en espace** : La complexité en espace de la récursion est O(n), où n est la profondeur de la récursion. Cela est dû au fait que chaque appel récursif est ajouté à la pile d'appels."
   ],
   "metadata": {
    "collapsed": false
   },
   "id": "f9810fd91cb5f040"
  },
  {
   "cell_type": "markdown",
   "source": "Jusqu'à présent, nous avons vu comment la récursion fonctionne et comment l'utiliser pour résoudre des problèmes. Cependant, il est important de noter que la récursion n'est pas toujours la meilleure solution pour résoudre un problème. En fait, la récursion peut être moins efficace que les boucles for ou while dans certains cas. Il est donc important de choisir la bonne technique de programmation en fonction du problème à résoudre.",
   "metadata": {
    "collapsed": false
   },
   "id": "8d4abc8140399703"
  },
  {
   "cell_type": "code",
   "source": [
    "def factorielle(n):\n",
    "    result = 1\n",
    "    for i in range(1, n+1):\n",
    "        result *= i\n",
    "    return result"
   ],
   "metadata": {
    "collapsed": false,
    "ExecuteTime": {
     "end_time": "2024-04-05T12:55:18.902324Z",
     "start_time": "2024-04-05T12:55:18.887326Z"
    }
   },
   "id": "b0aa21d7e6cfd3b4",
   "outputs": [],
   "execution_count": 4
  },
  {
   "cell_type": "code",
   "source": [
    "tmp_ms1 = current_milli_time()\n",
    "f = factorielle(10)\n",
    "tmp_ms2 = current_milli_time() - tmp_ms1\n",
    "\n",
    "print(tmp_ms2, \"ms\")\n",
    "print(f)"
   ],
   "metadata": {
    "collapsed": false,
    "ExecuteTime": {
     "end_time": "2024-04-05T12:55:18.917830Z",
     "start_time": "2024-04-05T12:55:18.903327Z"
    }
   },
   "id": "7ef2e7c3d80d6294",
   "outputs": [
    {
     "name": "stdout",
     "output_type": "stream",
     "text": [
      "0 ms\n",
      "3628800\n"
     ]
    }
   ],
   "execution_count": 5
  },
  {
   "cell_type": "markdown",
   "source": [
    "Voyons les complexité en temps et en espace de la boucle for.\n",
    "\n",
    "**Complexité en temps** : La complexité en temps de la boucle for est O(n), où n est le nombre d'itérations de la boucle. Cela est dû au fait que la boucle for s'exécute n fois pour résoudre le problème.\n",
    "\n",
    "**Complexité en espace** : La complexité en espace de la boucle for est O(1), car elle ne nécessite pas de stocker les appels récursifs dans la pile d'appels."
   ],
   "metadata": {
    "collapsed": false
   },
   "id": "b52bc1e7bacc1b59"
  },
  {
   "cell_type": "markdown",
   "source": [
    "## Dans quel cas utiliser la récursion ?\n",
    "\n",
    "Avec l'exemple de la récusion de la factorielle, on peut voir que la récursion est plus simple et plus \"élégante\" (au sens mathématique) que la boucle for.\n",
    "Ici on pourrait se dire que si ce n'est qu'une question d'élégance, ça n'en vaut pas la peine... La boucle for a été plus rapide et plus efficace en terme de mémoire.\n",
    "\n",
    "Alors pourquoi ce résultat ?\n",
    "Ici nous avons vu un cas simple, autrement dis on n'exploite pas vraiment la puissance de la récursion."
   ],
   "metadata": {
    "collapsed": false
   },
   "id": "cd2867dc44b7c480"
  },
  {
   "cell_type": "markdown",
   "source": [
    "### Fibonacci\n",
    "\n",
    "La suite de Fibonacci est une suite d'entiers dans laquelle chaque nombre est la somme des deux nombres précédents. La suite commence par 0 et 1, et chaque nombre suivant est la somme des deux nombres précédents. La suite de Fibonacci est définie comme suit :\n",
    "$$\n",
    "\\begin{align*}\n",
    "F(0) & = 1 \\\\\n",
    "F(1) & = 1 \\\\\n",
    "F(n) & = F(n-1) + F(n-2)\n",
    "\\end{align*}\n",
    "$$\n",
    "\n",
    "Définissons les cas de base et récursif pour la fonction de Fibonacci :\n",
    "\n",
    "**Cas de base** : $$ F(0) = 0 ~~ et ~~ F(1) = 1$$\n",
    "\n",
    "**Cas récursif** : $$ F(n) = F(n-1) + F(n-2)$$\n"
   ],
   "metadata": {
    "collapsed": false
   },
   "id": "e0f40f3cd30d36c1"
  },
  {
   "cell_type": "code",
   "source": [
    "def fibonacci_recusive(n):\n",
    "    if n == 0 or n == 1:\n",
    "        return 1\n",
    "    else:\n",
    "        return fibonacci_recusive(n-1) + fibonacci_recusive(n-2)"
   ],
   "metadata": {
    "collapsed": false,
    "ExecuteTime": {
     "end_time": "2024-04-05T12:55:18.933833Z",
     "start_time": "2024-04-05T12:55:18.918835Z"
    }
   },
   "id": "9d356b349905cbc5",
   "outputs": [],
   "execution_count": 6
  },
  {
   "cell_type": "code",
   "source": [
    "tmp_ms1 = current_milli_time()\n",
    "f = fibonacci_recusive(10)\n",
    "tmp_ms2 = current_milli_time() - tmp_ms1\n",
    "\n",
    "print(tmp_ms2, \"ms\")\n",
    "print(f)"
   ],
   "metadata": {
    "collapsed": false,
    "ExecuteTime": {
     "end_time": "2024-04-05T12:55:18.948833Z",
     "start_time": "2024-04-05T12:55:18.934834Z"
    }
   },
   "id": "c6cb0c825b83f647",
   "outputs": [
    {
     "name": "stdout",
     "output_type": "stream",
     "text": [
      "0 ms\n",
      "89\n"
     ]
    }
   ],
   "execution_count": 7
  },
  {
   "cell_type": "markdown",
   "source": [
    "Voyons les complexité en temps et en espace de la récursion.\n",
    "\n",
    "**Complexité en temps** : La complexité en temps de la récursion est O(2^n), où n est le nombre d'appels récursifs. Cela est dû au fait que la fonction récursive appelle deux copies de lui-même à chaque appel.\n",
    "\n",
    "**Complexité en espace** : La complexité en espace de la récursion est O(n), où n est la profondeur de la récursion. Cela est dû au fait que chaque appel récursif est ajouté à la pile d'appels.\n"
   ],
   "metadata": {
    "collapsed": false
   },
   "id": "7a4e206f9ac0207f"
  },
  {
   "cell_type": "code",
   "source": [
    "def fibonacci(n):\n",
    "    if n == 0 or n == 1:\n",
    "        return 1\n",
    "    else:\n",
    "        a, b = 1, 1\n",
    "        for i in range(2, n+1):\n",
    "            a, b = b, a + b\n",
    "        return b\n",
    "    "
   ],
   "metadata": {
    "collapsed": false,
    "ExecuteTime": {
     "end_time": "2024-04-05T12:55:18.964833Z",
     "start_time": "2024-04-05T12:55:18.949834Z"
    }
   },
   "id": "847226abe76227ea",
   "outputs": [],
   "execution_count": 8
  },
  {
   "cell_type": "code",
   "source": [
    "tmp_ms1 = current_milli_time()\n",
    "f = fibonacci(10)\n",
    "tmp_ms2 = current_milli_time() - tmp_ms1\n",
    "\n",
    "print(tmp_ms2, \"ms\")\n",
    "print(f)"
   ],
   "metadata": {
    "collapsed": false,
    "ExecuteTime": {
     "end_time": "2024-04-05T12:55:18.980833Z",
     "start_time": "2024-04-05T12:55:18.965834Z"
    }
   },
   "id": "2acc6f8ae3e214c1",
   "outputs": [
    {
     "name": "stdout",
     "output_type": "stream",
     "text": [
      "0 ms\n",
      "89\n"
     ]
    }
   ],
   "execution_count": 9
  },
  {
   "cell_type": "markdown",
   "source": [
    "Voyons les complexité en temps et en espace de la boucle for.\n",
    "\n",
    "**Complexité en temps** : La complexité en temps de la boucle for est O(n), où n est le nombre d'itérations de la boucle. Cela est dû au fait que la boucle for s'exécute n fois pour résoudre le problème.\n",
    "\n",
    "**Complexité en espace** : La complexité en espace de la boucle for est O(1), car elle ne nécessite pas de stocker les appels récursifs dans la pile d'appels."
   ],
   "metadata": {
    "collapsed": false
   },
   "id": "dde67e822ae0028d"
  },
  {
   "metadata": {},
   "cell_type": "markdown",
   "source": [
    "Encore une fois, on remarque qu'en terme de temps et d'espace, la boucle for est plus efficace que la récursion... C'est fais exprès, je vous rassure.\n",
    "L'idée est de montrer qu'il est également possible d'optimiser la récursion pour qu'elle soit plus efficace. C'est ce que l'on appelle la récursion terminale.\\\n",
    "\n",
    "#### Récursion Terminale\n",
    "Le principe ici est de pouvoir contrôler la profondeur d'appel, ici ce n'est pas très parlant mais l'ajout de 2 variables (a & b) va déjà aider le processus récursif.\\\n",
    "Autrement la technique terminale peut servir de filet de sécurité en cas de profondeur très grande. Par exemple introduire une variable \"Depth\" qui décroit à chaque appel, si celle-ci atteint 0, alors on va retourner une \"erreur\" qui va annoncer que l'algorithme a déjà fais trop d'appel récursif au goût/estimation du développeur.\n",
    "\n",
    "Concrètement, si on est à la recherche d'un algo capable de trouver un chemin reliant 2 points dans un graph en maximum 7 étapes, on utilisera la technique terminale avec une variable Depth initiée à 7 qui va servir à traquer la profondeur de la récursions et arrêter prématurément l'algorithme en cas d'échec.\n"
   ],
   "id": "f06d1d6da42a64c7"
  },
  {
   "metadata": {
    "ExecuteTime": {
     "end_time": "2024-04-05T12:55:18.995833Z",
     "start_time": "2024-04-05T12:55:18.981835Z"
    }
   },
   "cell_type": "code",
   "source": [
    "def fibonacci_tail_recusive(n, a=1, b=1):\n",
    "    if n == 0:\n",
    "        return a\n",
    "    else:\n",
    "        return fibonacci_tail_recusive(n-1, b, a+b)"
   ],
   "id": "a1139bfd2bd1a60a",
   "outputs": [],
   "execution_count": 10
  },
  {
   "metadata": {
    "ExecuteTime": {
     "end_time": "2024-04-05T12:55:19.011833Z",
     "start_time": "2024-04-05T12:55:18.996834Z"
    }
   },
   "cell_type": "code",
   "source": [
    "tmp_ms1 = current_milli_time()\n",
    "f = fibonacci_tail_recusive(10)\n",
    "tmp_ms2 = current_milli_time() - tmp_ms1\n",
    "\n",
    "print(tmp_ms2, \"ms\")\n",
    "print(f)\n"
   ],
   "id": "a3c1fc4e92ff07bd",
   "outputs": [
    {
     "name": "stdout",
     "output_type": "stream",
     "text": [
      "0 ms\n",
      "89\n"
     ]
    }
   ],
   "execution_count": 11
  },
  {
   "metadata": {},
   "cell_type": "markdown",
   "source": [
    "Ici on a gardé les mêmes cas de base et récursif, mais on a ajouté deux paramètres à la fonction pour stocker les valeurs de F(n-1) et F(n-2). Ainsi, on évite d'avoir à stocker les appels récursifs dans la pile d'appels, ce qui rend la récursion plus efficace.\n",
    "En effet, voici les complexités en temps et en espace de la récursion terminale.\n",
    "\n",
    "**Complexité en temps** : La complexité en temps de la récursion terminale est O(n), où n est le nombre d'appels récursifs. Cela est dû au fait que la fonction récursive appelle une copie de lui-même n fois pour résoudre le problème.\n",
    "\n",
    "**Complexité en espace** : La complexité en espace de la récursion terminale est O(1), car elle ne nécessite pas de stocker les appels récursifs dans la pile d'appels.\n"
   ],
   "id": "b8c52ea0d155383"
  },
  {
   "metadata": {},
   "cell_type": "markdown",
   "source": [
    "#### Mémoïsation\n",
    "\n",
    "On parle aussi de tableau de mémoïsation pour stocker les valeurs déjà calculées et éviter de les recalculer. C'est une technique très utilisée pour optimiser les récursions en réduisant le nombre d'appels récursifs afin de diminuer les complexités en temps et en espace.\n",
    "\n",
    "NOTE : la mémoïsation est une technique plus standardisée que la récursion terminale, dans le sens où ce principe s'applique de manière très générale, alors que la récursion terminale est plus spécifique à certains cas.\n",
    "On parle d'ailleurs parfois du \"Cas memoïque\" (ou \"Memoization Case\") pour désigner les cas où la mémoïsation est applicable.\n",
    "\n",
    "Voici un exemple de la suite de Fibonacci avec mémoïsation :"
   ],
   "id": "d24cae96dc40135"
  },
  {
   "metadata": {
    "ExecuteTime": {
     "end_time": "2024-04-05T12:55:19.027833Z",
     "start_time": "2024-04-05T12:55:19.012833Z"
    }
   },
   "cell_type": "code",
   "source": [
    "def fibonacci_memoization(n, memo={}):\n",
    "    if n in memo:                           # Cas mémoïque\n",
    "        return memo[n]\n",
    "    if n == 0 or n == 1:                    # Cas de base\n",
    "        return 1\n",
    "    else:                                   # Cas récursif\n",
    "        memo[n] = fibonacci_memoization(n-1, memo) + fibonacci_memoization(n-2, memo)\n",
    "        return memo[n]"
   ],
   "id": "e132ee5d6842b0a3",
   "outputs": [],
   "execution_count": 12
  },
  {
   "metadata": {
    "ExecuteTime": {
     "end_time": "2024-04-05T12:55:19.042837Z",
     "start_time": "2024-04-05T12:55:19.028834Z"
    }
   },
   "cell_type": "code",
   "source": [
    "tmp_ms1 = current_milli_time()\n",
    "f = fibonacci_memoization(10)\n",
    "tmp_ms2 = current_milli_time() - tmp_ms1\n",
    "\n",
    "print(tmp_ms2, \"ms\")\n",
    "print(f)\n"
   ],
   "id": "54f0ac9ef5ce30b",
   "outputs": [
    {
     "name": "stdout",
     "output_type": "stream",
     "text": [
      "0 ms\n",
      "89\n"
     ]
    }
   ],
   "execution_count": 13
  },
  {
   "metadata": {},
   "cell_type": "markdown",
   "source": [
    "Ici on stocke les valeurs déjà calculées dans un dictionnaire (memo). Ainsi, si la valeur de F(n) a déjà été calculée, on la récupère directement dans le dictionnaire, ce qui évite de la recalculer.\n",
    "\n",
    "Au besoin la table de mémoïsation peut être déclarée comme varibale globale, voir être retournée afin d'être partagé par plusieurs algorithme utilisant la même table\n"
   ],
   "id": "667665d958fb70a3"
  },
  {
   "metadata": {},
   "cell_type": "markdown",
   "source": [
    "## Enfin un cas où la récursion est plus efficace que la boucle for ?\n",
    "### Parcours de graphe\n",
    "\n",
    "Le parcours de graphe est un problème classique en informatique qui consiste à visiter tous les nœuds d'un graphe de manière systématique. Ici le but va être de parcourir un graphe de manière récursive et itérative pour comparer les deux méthodes.\n",
    "En théorie, la méthode récursive sera plus optimisée que la méthode itérative.\n",
    "\n",
    "### Implémentation\n",
    "\n",
    "Pour cet exemple, nous allons créer un graphe sous forme de dictionnaire, où chaque clé représente un nœud et chaque valeur représente les nœuds voisins. Nous allons ensuite implémenter deux fonctions pour parcourir le graphe de manière récursive et itérative.\n",
    "\n",
    "Pour ce faire nous allons utiliser le graphe suivant :\n",
    "\n",
    "```\n",
    "A -- B -- D\n",
    "|    |    |\n",
    "C -- E -- F\n",
    "```\n",
    "\n",
    "Et pour le parcourir, on va partir du nœud A. En utilisant l'algorithme de parcours en profondeur (Depth First Search - DFS)"
   ],
   "id": "c4b370b01e24fcd0"
  },
  {
   "metadata": {
    "ExecuteTime": {
     "end_time": "2024-04-05T12:55:19.058834Z",
     "start_time": "2024-04-05T12:55:19.044850Z"
    }
   },
   "cell_type": "code",
   "source": [
    "graph = {\n",
    "    'A': ['B', 'C'],\n",
    "    'B': ['A', 'D', 'E'],\n",
    "    'C': ['A', 'E'],\n",
    "    'D': ['B','F'],\n",
    "    'E': ['C', 'B', 'F'],\n",
    "    'F': ['D', 'E']\n",
    "}\n",
    "\n",
    "def dfs_recursive(graph, node, visited=None):\n",
    "    if visited is None:\n",
    "        visited = []\n",
    "    if node not in visited:\n",
    "        visited.append(node)\n",
    "        if node in graph:  # Check if node has neighbors\n",
    "            for neighbor in graph[node]:\n",
    "                dfs_recursive(graph, neighbor, visited)\n",
    "    return visited\n",
    "\n",
    "def dfs_iterative(graph, start):\n",
    "    visited = []\n",
    "    stack = [start]\n",
    "    while stack:\n",
    "        node = stack.pop()\n",
    "        if node not in visited:\n",
    "            visited.append(node)\n",
    "            if node in graph:  # Check if node has neighbors\n",
    "                stack.extend([neighbor for neighbor in graph[node] if neighbor not in visited])\n",
    "    return visited\n",
    "\n",
    "# Sans utiliser de générateur pour la version itérative on aurait pu écrire :\n",
    "def dfs_long_iterative(graph, start):\n",
    "    visited = []\n",
    "    stack = [start]\n",
    "    while stack:\n",
    "        node = stack.pop()\n",
    "        if node not in visited:\n",
    "            visited.append(node)\n",
    "            for neighbor in graph[node]:\n",
    "                if neighbor not in visited:\n",
    "                    stack.append(neighbor)\n",
    "    return visited"
   ],
   "id": "453c8fbfe2ce180b",
   "outputs": [],
   "execution_count": 14
  },
  {
   "metadata": {
    "ExecuteTime": {
     "end_time": "2024-04-05T12:55:19.074833Z",
     "start_time": "2024-04-05T12:55:19.059835Z"
    }
   },
   "cell_type": "code",
   "source": [
    "# Parcours récursif\n",
    "tmp_ms1 = current_milli_time()\n",
    "r = dfs_recursive(graph, 'A')\n",
    "tmp_ms2 = current_milli_time() - tmp_ms1\n",
    "\n",
    "print(tmp_ms2, \"ms\")\n",
    "\n",
    "# Parcours itératif\n",
    "tmp_ms1 = current_milli_time()\n",
    "i = dfs_iterative(graph, 'A')\n",
    "tmp_ms2 = current_milli_time() - tmp_ms1\n",
    "\n",
    "print(tmp_ms2, \"ms\")\n",
    "\n",
    "print(r)\n",
    "print(i)\n"
   ],
   "id": "173e6b5caeb11bd7",
   "outputs": [
    {
     "name": "stdout",
     "output_type": "stream",
     "text": [
      "0 ms\n",
      "0 ms\n",
      "['A', 'B', 'D', 'F', 'E', 'C']\n",
      "['A', 'C', 'E', 'F', 'D', 'B']\n"
     ]
    }
   ],
   "execution_count": 15
  },
  {
   "metadata": {},
   "cell_type": "markdown",
   "source": [
    "NOTE : Le résultat est le même, mais l'ordre des nœuds visités peut varier en fonction de l'implémentation de l'algorithme. Ici la différence est que dans un cas on ajoute les voisins (récursif) et dans l'autre on retire un noeud (le dernier) du stack avant d'ajouter ses voisins (itératif).\n",
    "\n",
    "Au niveau des complexités en temps et en espace, vu qu'on est dans un graphe, on ne peut pas vraiment parler de nombre d'appels récursifs, mais plutôt de nombre de nœuds visités.\n",
    "Ici les 2 fonctions possèdent les mêmes complexités en temps et en espace.\n",
    "\n",
    "\n",
    "**Complexité en temps** : La complexité en temps de la récursion est O(V+E), où V est le nombre de nœuds et E est le nombre d'arêtes du graphe. Cela est dû au fait que la fonction récursive visite chaque nœud et chaque arête du graphe.\n",
    "\n",
    "**Complexité en espace** : La complexité en espace de la récursion est O(V), où V est le nombre de nœuds du graphe. Cela est dû au fait que la fonction récursive stocke les nœuds visités dans la pile d'appels.\n"
   ],
   "id": "a5ea62d63caa4a6d"
  },
  {
   "metadata": {
    "ExecuteTime": {
     "end_time": "2024-04-05T12:55:19.089837Z",
     "start_time": "2024-04-05T12:55:19.075838Z"
    }
   },
   "cell_type": "code",
   "source": [
    "bigger_graph = {}\n",
    "for i in range(2000):\n",
    "    bigger_graph[str(i)] = [str(j) for j in range(i+1, i+10)]"
   ],
   "id": "425a1f1b10b47bab",
   "outputs": [],
   "execution_count": 16
  },
  {
   "metadata": {
    "ExecuteTime": {
     "end_time": "2024-04-05T12:55:19.357833Z",
     "start_time": "2024-04-05T12:55:19.090837Z"
    }
   },
   "cell_type": "code",
   "source": [
    "tmp_ms1 = current_milli_time()\n",
    "r = dfs_recursive(bigger_graph, '0')\n",
    "tmp_ms2 = current_milli_time() - tmp_ms1\n",
    "\n",
    "print(tmp_ms2, \"ms\")\n",
    "\n",
    "tmp_ms1 = current_milli_time()\n",
    "i = dfs_iterative(bigger_graph, '0')\n",
    "tmp_ms2 = current_milli_time() - tmp_ms1\n",
    "\n",
    "print(tmp_ms2, \"ms\")\n"
   ],
   "id": "4cbf3e3bab1f8614",
   "outputs": [
    {
     "name": "stdout",
     "output_type": "stream",
     "text": [
      "133 ms\n",
      "129 ms\n"
     ]
    }
   ],
   "execution_count": 17
  },
  {
   "metadata": {},
   "cell_type": "markdown",
   "source": [
    "## Conclusion\n",
    "\n",
    "Alors.... La récursion est-elle plus efficace que la boucle for ?\n",
    "\n",
    "La réponse est : pas vraiment.\n",
    "\n",
    "On a pu voir différent cas de figure où la récursion était moins efficace que la boucle for en terme de complexité pure (temps et espace), par contre avec la correcte implémentation, on a pu voir que la récursion peut être aussi efficace.\n",
    "Mais pourquoi c'est si populaire alors ?\n",
    "\n",
    "Eh bien c'est souvent un critère de lisibilité et de simplicité. L'interêt derrière la récursion est de pouvoir résoudre des problèmes de manière plus élégante et plus simple.\n",
    "Les exemples les plus parlant sont les Fractales, les Arbres, les Graphes, les problèmes de tri, etc.\n",
    "\n",
    "De bons exemples sont le Flocon de Koch, le Triangle de Sierpinski, le Tri des tours de Hanoï, Courbe du Dragon, etc.\n",
    "\n",
    "Car leur procédé de création est basé sur des appels récursifs, le principe de la récursion est donc parfaitement adapté à ces problèmes."
   ],
   "id": "9b64fd619efbd2f"
  },
  {
   "metadata": {},
   "cell_type": "markdown",
   "source": [
    "### Exemples de fractales\n",
    "#### Flocon de Koch\n",
    "\n",
    "voir image : https://github.com/WillHCode/HEH-Help/blob/main/assets/Droite_Koch.png\n",
    "\n",
    "Le flocon de Koch est une fractale qui ressemble à un flocon de neige. Il est créé en répétant un motif de base à chaque étape. On peut décrire les étapes de création du flocon de Koch comme suit (pour celui dit \"classique\"):\n",
    "\n",
    "1. Dessiner une ligne droite.\n",
    "2. Diviser la ligne droite en trois segments de même longueur.\n",
    "3. Remplacer le segment du milieu par un triangle équilatéral.\n",
    "4. Répéter les étapes 2 et 3 pour chaque segment."
   ],
   "id": "39ede1269d335101"
  },
  {
   "metadata": {
    "ExecuteTime": {
     "end_time": "2024-04-05T12:55:19.436838Z",
     "start_time": "2024-04-05T12:55:19.358834Z"
    }
   },
   "cell_type": "code",
   "source": [
    "# Exemple du Flocon de Koch\n",
    "\n",
    "def koch_snowflake(n):\n",
    "    # Cas de base\n",
    "    if n == 0:\n",
    "        return [(0, 0), (1, 0)]\n",
    "    else:\n",
    "        points = koch_snowflake(n-1) # Appel récursif\n",
    "        new_points = []\n",
    "        for i in range(len(points)-1):\n",
    "            x1, y1 = points[i]\n",
    "            x2, y2 = points[i+1]\n",
    "            new_points.append((x1, y1))\n",
    "            new_points.append(((2*x1 + x2)/3, (2*y1 + y2)/3))\n",
    "            new_points.append(((x1 + x2)/2 - (y2 - y1)*(3**0.5)/6, (x2 - x1)*(3**0.5)/6 + (y1 + y2)/2))\n",
    "            new_points.append(((x1 + 2*x2)/3, (y1 + 2*y2)/3))\n",
    "        new_points.append(points[-1])\n",
    "        return new_points\n",
    "    \n",
    "tmp_ms1 = current_milli_time()\n",
    "points = koch_snowflake(4)\n",
    "tmp_ms2 = current_milli_time() - tmp_ms1\n",
    "\n",
    "print(tmp_ms2, \"ms\")\n",
    "\n",
    "x, y = zip(*points)\n",
    "plt.plot(x, y)\n",
    "plt.show()"
   ],
   "id": "38284032c0f7f4af",
   "outputs": [
    {
     "name": "stdout",
     "output_type": "stream",
     "text": [
      "1 ms\n"
     ]
    },
    {
     "data": {
      "text/plain": [
       "<Figure size 640x480 with 1 Axes>"
      ],
      "image/png": "[encoded data removed]"
     },
     "metadata": {},
     "output_type": "display_data"
    }
   ],
   "execution_count": 18
  },
  {
   "metadata": {},
   "cell_type": "markdown",
   "source": [
    "Complexité en temps et en espace de la récursion.\n",
    "\n",
    "**Complexité en temps** : La complexité en temps de la récursion est O(4^n), où n est le nombre d'appels récursifs. Cela est dû au fait que la fonction récursive appelle quatre copies de lui-même à chaque appel.\n",
    "\n",
    "**Complexité en espace** : La complexité en espace de la récursion est O(4^n), où n est la profondeur de la récursion. Cela est dû au fait que chaque appel récursif est ajouté à la pile d'appels."
   ],
   "id": "a86f775b9b3227aa"
  },
  {
   "metadata": {
    "ExecuteTime": {
     "end_time": "2024-04-05T12:55:19.500840Z",
     "start_time": "2024-04-05T12:55:19.437834Z"
    }
   },
   "cell_type": "code",
   "source": [
    "# Flocon de Koch avec une boucle for\n",
    "\n",
    "def koch_snowflake(n):\n",
    "    points = [(0, 0), (1, 0)]\n",
    "    for _ in range(n):\n",
    "        new_points = []\n",
    "        for i in range(len(points)-1):\n",
    "            x1, y1 = points[i]\n",
    "            x2, y2 = points[i+1]\n",
    "            new_points.append((x1, y1))\n",
    "            new_points.append(((2*x1 + x2)/3, (2*y1 + y2)/3))\n",
    "            new_points.append(((x1 + x2)/2 - (y2 - y1)*(3**0.5)/6, (x2 - x1)*(3**0.5)/6 + (y1 + y2)/2))\n",
    "            new_points.append(((x1 + 2*x2)/3, (y1 + 2*y2)/3))\n",
    "        new_points.append(points[-1])\n",
    "        points = new_points\n",
    "    return points\n",
    "\n",
    "tmp_ms1 = current_milli_time()\n",
    "points = koch_snowflake(4)\n",
    "tmp_ms2 = current_milli_time() - tmp_ms1\n",
    "\n",
    "print(tmp_ms2, \"ms\")\n",
    "\n",
    "x, y = zip(*points)\n",
    "plt.plot(x, y)\n",
    "plt.show()\n"
   ],
   "id": "e621ff4516bf730d",
   "outputs": [
    {
     "name": "stdout",
     "output_type": "stream",
     "text": [
      "1 ms\n"
     ]
    },
    {
     "data": {
      "text/plain": [
       "<Figure size 640x480 with 1 Axes>"
      ],
      "image/png": "[encoded data removed]"
     },
     "metadata": {},
     "output_type": "display_data"
    }
   ],
   "execution_count": 19
  },
  {
   "metadata": {},
   "cell_type": "markdown",
   "source": [
    "Complexité en temps et en espace de la boucle for.\n",
    "\n",
    "**Complexité en temps** : La complexité en temps de la boucle for est O(4^n), où n est le nombre d'itérations de la boucle. Cela est dû au fait que les 4 points sont calculés à chaque itération et ceci n fois.\n",
    "\n",
    "**Complexité en espace** :  La complexité en temps de la boucle for est O(4^n), où n est le nombre d'itérations de la boucle. Cela est dû au fait que les 4 points sont stockés à chaque itération et ceci n fois."
   ],
   "id": "eaec2ea482aa3752"
  },
  {
   "metadata": {},
   "cell_type": "markdown",
   "source": "Mais encore une fois la récursion n'est pas la seule solution, même pour les fractales, on peut également utiliser des boucles for pour résoudre ces problèmes.",
   "id": "606042da17daa07b"
  },
  {
   "metadata": {},
   "cell_type": "markdown",
   "source": [
    "#### Fougère de Barnsley\n",
    "\n",
    "La fougère de Barnsley est une fractale qui ressemble à une fougère. Elle est créée en répétant un motif de base à chaque étape. On peut décrire les étapes de création de la fougère de Barnsley comme suit :\n",
    "\n",
    "1. Définir quatre transformations linéaires.\n",
    "2. Choisir aléatoirement une transformation linéaire à chaque étape.\n",
    "3. Appliquer la transformation linéaire au point précédent.\n",
    "4. Répéter les étapes 2 et 3 pour chaque étape.\n",
    "5. Dessiner le point obtenu à chaque étape.\n",
    "\n",
    "Ici, nous allons utiliser les transformations linéaires suivantes pour créer la fougère de Barnsley :\n",
    "\n",
    "$$x' = 0, y' = 0.16*y$$\n",
    "$$x' = 0.85*x + 0.04*y, y' = -0.04*x + 0.85*y + 1.6$$\n",
    "$$x' = 0.2*x - 0.26*y, y' = 0.23*x + 0.22*y + 1.6$$\n",
    "$$x' = -0.15*x + 0.28*y, y' = 0.26*x + 0.24*y + 0.44$$"
   ],
   "id": "daf177f494e9640e"
  },
  {
   "metadata": {
    "ExecuteTime": {
     "end_time": "2024-04-05T12:55:19.992319Z",
     "start_time": "2024-04-05T12:55:19.501836Z"
    }
   },
   "cell_type": "code",
   "source": [
    "# Exemple de la Fougère de Barnsley, n = 100_000\n",
    "\n",
    "def barnsley_fern(n):\n",
    "    x, y = 0, 0\n",
    "    points = [(x, y)]\n",
    "    for _ in range(n):\n",
    "        r = np.random.rand()\n",
    "        if r < 0.01:\n",
    "            x, y = 0, 0.16*y\n",
    "        elif r < 0.86:\n",
    "            x, y = 0.85*x + 0.04*y, -0.04*x + 0.85*y + 1.6\n",
    "        elif r < 0.93:\n",
    "            x, y = 0.2*x - 0.26*y, 0.23*x + 0.22*y + 1.6\n",
    "        else:\n",
    "            x, y = -0.15*x + 0.28*y, 0.26*x + 0.24*y + 0.44\n",
    "        points.append((x, y))\n",
    "    return points\n",
    "\n",
    "tmp_ms1 = current_milli_time()\n",
    "points = barnsley_fern(100_000)\n",
    "tmp_ms2 = current_milli_time() - tmp_ms1\n",
    "\n",
    "print(tmp_ms2, \"ms\")\n",
    "\n",
    "x, y = zip(*points)\n",
    "plt.scatter(x, y, s=1, c='green')\n",
    "plt.show()"
   ],
   "id": "45385aa00a2e346c",
   "outputs": [
    {
     "name": "stdout",
     "output_type": "stream",
     "text": [
      "69 ms\n"
     ]
    },
    {
     "data": {
      "text/plain": [
       "<Figure size 640x480 with 1 Axes>"
      ],
      "image/png": "[encoded data removed]"
     },
     "metadata": {},
     "output_type": "display_data"
    }
   ],
   "execution_count": 20
  },
  {
   "metadata": {},
   "cell_type": "markdown",
   "source": [
    "Complexité en temps et en espace de la boucle for.\n",
    "\n",
    "**Complexité en temps** : La complexité en temps de la boucle for est O(n), où n est le nombre d'itérations de la boucle. Cela est dû au fait que la boucle for s'exécute n fois pour résoudre le problème.\n",
    "\n",
    "**Complexité en espace** : La complexité en espace de la boucle for est O(n), où n est le nombre d'itérations de la boucle. Cela est dû au fait que les points sont stockés à chaque itération."
   ],
   "id": "8e57c0ba69ef5382"
  },
  {
   "metadata": {},
   "cell_type": "markdown",
   "source": "Je n'ai jamais trop tenté la fonction récursive pour la fougère de Barnsley, donc c'est un premier essai qui n'est potentiellement pas optimisé.",
   "id": "66df179cc20a53bc"
  },
  {
   "metadata": {
    "ExecuteTime": {
     "end_time": "2024-04-05T12:55:20.071943Z",
     "start_time": "2024-04-05T12:55:19.993319Z"
    }
   },
   "cell_type": "code",
   "source": [
    "# Exemple de la Fougère de Barnsley récursif, n = 1_000\n",
    "\n",
    "def barnsley_fern_recursive(n, x=0, y=0, points=None):\n",
    "    if points is None:\n",
    "        points = [(x, y)]\n",
    "\n",
    "    if n == 0:\n",
    "        return points\n",
    "    else:\n",
    "        r = np.random.rand()\n",
    "        if r < 0.01:\n",
    "            x, y = 0, 0.16*y\n",
    "        elif r < 0.86:\n",
    "            x, y = 0.85*x + 0.04*y, -0.04*x + 0.85*y + 1.6\n",
    "        elif r < 0.93:\n",
    "            x, y = 0.2*x - 0.26*y, 0.23*x + 0.22*y + 1.6\n",
    "        else:\n",
    "            x, y = -0.15*x + 0.28*y, 0.26*x + 0.24*y + 0.44\n",
    "        points.append((x, y))\n",
    "        return barnsley_fern_recursive(n-1, x, y, points)\n",
    "\n",
    "tmp_ms1 = current_milli_time()\n",
    "points = barnsley_fern_recursive(1_000)\n",
    "tmp_ms2 = current_milli_time() - tmp_ms1\n",
    "\n",
    "print(tmp_ms2, \"ms\")\n",
    "\n",
    "x, y = zip(*points)\n",
    "plt.scatter(x, y, s=1, c='green')\n",
    "plt.show()"
   ],
   "id": "1d80b954587b731f",
   "outputs": [
    {
     "name": "stdout",
     "output_type": "stream",
     "text": [
      "3 ms\n"
     ]
    },
    {
     "data": {
      "text/plain": [
       "<Figure size 640x480 with 1 Axes>"
      ],
      "image/png": "[encoded data removed]"
     },
     "metadata": {},
     "output_type": "display_data"
    }
   ],
   "execution_count": 21
  },
  {
   "metadata": {},
   "cell_type": "markdown",
   "source": [
    "Complexité en temps et en espace de la récursion.\n",
    "\n",
    "**Complexité en temps** : La complexité en temps de la récursion est O(n), où n est le nombre d'appels récursifs. Cela est dû au fait que la fonction récursive appelle une copie de lui-même n fois pour résoudre le problème.\n",
    "\n",
    "**Complexité en espace** : La complexité en espace de la récursion est O(n), où n est la profondeur de la récursion. Cela est dû au fait que chaque appel récursif est ajouté à la pile d'appels."
   ],
   "id": "b7c50ca97344c2f1"
  },
  {
   "metadata": {},
   "cell_type": "markdown",
   "source": [
    "NOTE :\n",
    "Je n'ai utilisé que n = 1_000 pour la récursion, au delà ça devient très lent, voir même étrangement trop lent... Ma supposition est que la récursion va avoir du mal à gérer les appels récursifs et les appels aléatoires en même temps et en trop grand nombre.\n",
    "Gérer autant d'appels récursifs à garder dans la pile d'appels doit être très lourd pour le système, ce qui fait que le procéder devient anormalement lent voir peut potentiellement crasher à long terme."
   ],
   "id": "67ec4e4e506c90f6"
  }
 ],
 "metadata": {
  "kernelspec": {
   "display_name": "Python 3",
   "language": "python",
   "name": "python3"
  },
  "language_info": {
   "codemirror_mode": {
    "name": "ipython",
    "version": 2
   },
   "file_extension": ".py",
   "mimetype": "text/x-python",
   "name": "python",
   "nbconvert_exporter": "python",
   "pygments_lexer": "ipython2",
   "version": "2.7.6"
  }
 },
 "nbformat": 4,
 "nbformat_minor": 5
}
